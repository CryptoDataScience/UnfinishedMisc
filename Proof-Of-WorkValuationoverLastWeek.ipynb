{
 "cells": [
  {
   "cell_type": "code",
   "execution_count": 4,
   "id": "e4be1478",
   "metadata": {},
   "outputs": [
    {
     "name": "stdout",
     "output_type": "stream",
     "text": [
      "Average Bitcoin price over the past week: $69182.02\n"
     ]
    }
   ],
   "source": [
    "import requests\n",
    "from datetime import datetime, timedelta\n",
    "import numpy as np\n",
    "\n",
    "def fetch_bitcoin_prices(start, end):\n",
    "    # Coinbase Pro API endpoint for historical data\n",
    "    url = \"https://api.exchange.coinbase.com/products/BTC-USD/candles\"\n",
    "    \n",
    "    # Convert datetime objects to ISO format for the API request\n",
    "    start_iso = start.isoformat()\n",
    "    end_iso = end.isoformat()\n",
    "    \n",
    "    # Parameters for granularity (86400 seconds = 1 day)\n",
    "    # and the start/end times\n",
    "    params = {\n",
    "        'start': start_iso,\n",
    "        'end': end_iso,\n",
    "        'granularity': 86400  # Daily data\n",
    "    }\n",
    "    \n",
    "    # Make the request\n",
    "    response = requests.get(url, params=params)\n",
    "    \n",
    "    # Check if the request was successful\n",
    "    if response.status_code == 200:\n",
    "        return response.json()\n",
    "    else:\n",
    "        raise Exception(\"Failed to fetch data: \" + response.content.decode())\n",
    "\n",
    "def calculate_average_price(prices):\n",
    "    # Calculate the average price from the OHLC data\n",
    "    # Note: The API returns data in the format [time, low, high, open, close, volume]\n",
    "    close_prices = [price[4] for price in prices]  # Extract the close price\n",
    "    average_price = np.mean(close_prices)\n",
    "    return average_price\n",
    "\n",
    "# Calculate the date one week ago from today\n",
    "end_date = datetime.utcnow()\n",
    "start_date = end_date - timedelta(days=10)\n",
    "\n",
    "# Fetch Bitcoin prices over the past week\n",
    "prices = fetch_bitcoin_prices(start_date, end_date)\n",
    "\n",
    "# Calculate the average price\n",
    "average_price = calculate_average_price(prices)\n",
    "\n",
    "print(f\"Average Bitcoin price over the past week: ${average_price:.2f}\")"
   ]
  },
  {
   "cell_type": "code",
   "execution_count": null,
   "id": "27da42f3",
   "metadata": {},
   "outputs": [],
   "source": []
  }
 ],
 "metadata": {
  "kernelspec": {
   "display_name": "Python [conda env:basecopy]",
   "language": "python",
   "name": "conda-env-basecopy-py"
  },
  "language_info": {
   "codemirror_mode": {
    "name": "ipython",
    "version": 3
   },
   "file_extension": ".py",
   "mimetype": "text/x-python",
   "name": "python",
   "nbconvert_exporter": "python",
   "pygments_lexer": "ipython3",
   "version": "3.8.8"
  }
 },
 "nbformat": 4,
 "nbformat_minor": 5
}
